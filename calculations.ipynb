{
 "cells": [
  {
   "cell_type": "code",
   "execution_count": 1,
   "metadata": {},
   "outputs": [],
   "source": [
    "import yfinance as yf\n",
    "import pandas as pd\n",
    "import numpy as np\n",
    "import math as m\n",
    "import matplotlib.pyplot as plt\n",
    "from scipy.optimize import minimize\n",
    "from scipy.optimize import Bounds\n",
    "import datetime as dt\n"
   ]
  },
  {
   "cell_type": "code",
   "execution_count": 2,
   "metadata": {},
   "outputs": [],
   "source": [
    "#define parameters of investment period start\n",
    "start_backtesting = np.datetime64(\"2011-01-01\")\n",
    "end_backtesting = np.datetime64(\"2021-12-31\")\n",
    "\n",
    "#import needed files\n",
    "#-----------------------------------------------------------------------------\n",
    "constituents = pd.read_csv(\"index_constituents_data.csv\", index_col= 0)\n",
    "benchmark = pd.read_csv(\"benchmark.csv\", index_col= 0)\n",
    "gross_returns = pd.read_csv(\"Gross_Prices_EUR.csv\", index_col= 0)\n",
    "net_returns = pd.read_csv(\"Net_Prices_EUR.csv\", index_col= 0)\n",
    "\n",
    "#select stocks to invest in (10 highest dividend yields and 10 lowest dividend yields)\n",
    "constituents = constituents.sort_values(by = \"Yield\", ascending= False)\n",
    "stocks = constituents.iloc[np.r_[0:10, 40:50]]\n"
   ]
  },
  {
   "cell_type": "code",
   "execution_count": 3,
   "metadata": {},
   "outputs": [
    {
     "ename": "NameError",
     "evalue": "name 'Gross_Price' is not defined",
     "output_type": "error",
     "traceback": [
      "\u001b[0;31m---------------------------------------------------------------------------\u001b[0m",
      "\u001b[0;31mNameError\u001b[0m                                 Traceback (most recent call last)",
      "\u001b[1;32mUntitled-1.ipynb Cell 3'\u001b[0m in \u001b[0;36m<cell line: 2>\u001b[0;34m()\u001b[0m\n\u001b[1;32m      <a href='vscode-notebook-cell:Untitled-1.ipynb?jupyter-notebook#ch0000002untitled?line=0'>1</a>\u001b[0m \u001b[39m#retreive in sample stock prices to calculate return and variances for optimization\u001b[39;00m\n\u001b[0;32m----> <a href='vscode-notebook-cell:Untitled-1.ipynb?jupyter-notebook#ch0000002untitled?line=1'>2</a>\u001b[0m Stock_Prices \u001b[39m=\u001b[39m Gross_Price[stocks\u001b[39m.\u001b[39mindex\u001b[39m.\u001b[39mto_list()]\n\u001b[1;32m      <a href='vscode-notebook-cell:Untitled-1.ipynb?jupyter-notebook#ch0000002untitled?line=2'>3</a>\u001b[0m in_sample \u001b[39m=\u001b[39m Stock_Prices[Stock_Prices\u001b[39m.\u001b[39mindex \u001b[39m<\u001b[39m end_backtesting]\n\u001b[1;32m      <a href='vscode-notebook-cell:Untitled-1.ipynb?jupyter-notebook#ch0000002untitled?line=4'>5</a>\u001b[0m \u001b[39m#estimate expected returns and variance-covariances\u001b[39;00m\n",
      "\u001b[0;31mNameError\u001b[0m: name 'Gross_Price' is not defined"
     ]
    }
   ],
   "source": [
    "\n",
    "#retreive in sample stock prices to calculate return and variances for optimization\n",
    "Stock_Prices = Gross_Price[stocks.index.to_list()]\n",
    "in_sample = Stock_Prices[Stock_Prices.index < end_backtesting]\n",
    "\n",
    "#estimate expected returns and variance-covariances\n",
    "ER = in_sample.pct_change().mean()\n",
    "S = in_sample.pct_change().cov()\n",
    "\n",
    "#define functions for optimization\n",
    "#------------------------------------------------------------------------------\n",
    "def pvar(w, S):\n",
    "    return (w.T @ S @ w)\n",
    "\n",
    "def pret(w, ER):\n",
    "    return (w.T @ ER)\n",
    "\n",
    "def sharpe(w ,ER, S):\n",
    "    return -(w.T @ ER)/ ((w.T @ S @ w) ** 0.5)\n"
   ]
  },
  {
   "cell_type": "code",
   "execution_count": null,
   "metadata": {},
   "outputs": [],
   "source": [
    "\n",
    "#calculate optimized portfolios\n",
    "#---------------------------------------------------------------------------------------\n",
    "N = len(ER)\n",
    "x0 = np.ones(N)/N\n",
    "\n",
    "#set up constraints\n",
    "#first contraint -> total investment = 100% long\n",
    "#second constraint- > Values smaller than - min_weight\n",
    "#third constraint -> Values larger than min_weight,\n",
    "\n",
    "min_weight = 0.01\n",
    "\n",
    "cons = ({\"type\": \"eq\", \"fun\" : lambda x: np.sum(x) - 1},\n",
    "        {\"type\": \"ineq\", \"fun\" : lambda x: -min_weight -x[10:20]},\n",
    "        {\"type\": \"ineq\", \"fun\" : lambda x: x[0:10]- min_weight})\n",
    "\n",
    "#define maximum short and long % for each stock\n",
    "bounds = Bounds(-1/N*4, 1/N*4)\n",
    "\n",
    "#calculate optimized values (GMVP and MSRP constrained and unconstrained)\n",
    "GMVP = minimize(pvar, x0, method='SLSQP', args=S, options={'disp': True, 'ftol': 1e-9})\n",
    "MSRP_const = minimize(sharpe, x0, method='SLSQP', args=(ER, S), constraints=cons, options={'disp': True, 'ftol': 1e-9}, bounds = bounds)\n",
    "MSRP_unconst = minimize(sharpe, x0, method='SLSQP', args=(ER,S), constraints=cons, options={'disp': True, 'ftol': 1e-9})\n"
   ]
  },
  {
   "cell_type": "code",
   "execution_count": null,
   "metadata": {},
   "outputs": [],
   "source": [
    "\n",
    "#complete data set of selected stocks with weights\n",
    "stocks[\"weights\"] = MSRP_const.x\n",
    "\n",
    "#calculate strategy returns in and out of sample\n",
    "#-------------------------------------------------------------------------------\n",
    "\n",
    "benchmark.index = pd.to_datetime(benchmark.index)\n",
    "\n",
    "#out of sample returns (net)\n",
    "out_sample_net = Net_Price[Net_Price.index > end_backtesting]\n",
    "out_sample_net = out_sample_net[stocks.index] * MSRP_const.x\n",
    "out_sample_net =  out_sample_net.sum(axis = 1)\n",
    "\n",
    "#out of sample returns (gross)\n",
    "out_sample_gross = Gross_Price[Gross_Price.index > end_backtesting]\n",
    "out_sample_gross = out_sample_gross[stocks.index] * MSRP_const.x\n",
    "out_sample_gross =  out_sample_gross.sum(axis = 1)\n",
    "\n",
    "#in sample returns (net)\n",
    "in_sample_net = Net_Price[Net_Price.index <= end_backtesting]\n",
    "in_sample_net = in_sample_net[stocks.index] * MSRP_const.x\n",
    "in_sample_net =  in_sample_net.sum(axis = 1)\n",
    "\n",
    "#in sample returns (gross)\n",
    "in_sample_gross = Gross_Price[Gross_Price.index <= end_backtesting]\n",
    "in_sample_gross = in_sample_gross[stocks.index] * MSRP_const.x\n",
    "in_sample_gross =  in_sample_gross.sum(axis = 1)\n"
   ]
  },
  {
   "cell_type": "code",
   "execution_count": null,
   "metadata": {},
   "outputs": [],
   "source": [
    "\n",
    "#combine net and gross in sample weighted value to data frame & left join index values (net and gross)\n",
    "#then calculate relative performance of all series\n",
    "in_sample = pd.DataFrame({\"strategy_net\": in_sample_net, \"strategy_gross\": in_sample_gross},\n",
    "                         index = in_sample_net.index)\n",
    "in_sample = in_sample.join(benchmark)\n",
    "in_sample = in_sample.div(in_sample.iloc[0])\n",
    "\n",
    "#combine net and gross out of sample weighted value to data frame & left join index values (net and gross)\n",
    "#then calculate relative performance of all series\n",
    "out_sample = pd.DataFrame({\"strategy_net\": out_sample_net, \"strategy_gross\": out_sample_gross},\n",
    "                         index = out_sample_net.index)\n",
    "out_sample = out_sample.join(benchmark)\n",
    "out_sample = out_sample.div(out_sample.iloc[0])\n"
   ]
  },
  {
   "cell_type": "code",
   "execution_count": null,
   "metadata": {},
   "outputs": [],
   "source": [
    "\n",
    "#out of sample strategy vs. benchmark\n",
    "plt.plot(out_sample[[\"strategy_gross\", \"benchmark_gross\"]])\n",
    "plt.legend(out_sample[[\"strategy_gross\", \"benchmark_gross\"]].columns)\n",
    "plt.savefig(\"out_sample.png\", device = \"png\")\n",
    "\n",
    "#in sample strategy vs. benchmark\n",
    "plt.plot(in_sample[[\"strategy_gross\", \"benchmark_gross\"]])\n",
    "plt.legend(in_sample[[\"strategy_gross\", \"benchmark_gross\"]].columns)\n",
    "plt.savefig(\"in_sample.png\", device = \"png\")\n",
    "\n",
    "#show strategy returns net vs. gross!\n",
    "plt.plot(in_sample[[\"strategy_gross\", \"strategy_net\"]])\n",
    "plt.legend(in_sample[[\"strategy_gross\", \"strategy_net\"]].columns)\n",
    "plt.savefig(\"net_vs_gross.png\", device = \"png\")\n"
   ]
  },
  {
   "cell_type": "code",
   "execution_count": null,
   "metadata": {},
   "outputs": [],
   "source": [
    "\n",
    "#plot weights diagram\n",
    "width = 0.4\n",
    "fig, ax = plt.subplots()\n",
    "ind = np.arange(len(stocks))\n",
    "\n",
    "ax.barh(ind, stocks.weights, width, label = \"Strategy Weights\")\n",
    "ax.barh(ind + width, stocks.index_weights, width, label = \"Index Weights\")\n",
    "ax.set(yticks = ind + width, yticklabels = stocks.Name)\n",
    "ax.legend()\n",
    "plt.title(\"Stock Weights Strategy vs Index\", size = 20)\n",
    "plt.show()\n",
    "plt.savefig(\"weights.png\", device = \"png\")\n",
    "\n",
    "country_weights = stocks[[\"Country\", \"weights\"]].groupby(by = \"Country\").sum()\n"
   ]
  },
  {
   "cell_type": "code",
   "execution_count": null,
   "metadata": {},
   "outputs": [],
   "source": [
    "\n",
    "#plot currencies\n",
    "currency_weights_strategy = stocks[[\"Currency\", \"weights\"]].groupby(by = \"Currency\").sum()\n",
    "currency_weights_index = constituents[[\"Currency\", \"index_weights\"]].groupby(by = \"Currency\").sum()\n",
    "\n",
    "plt.pie(currency_weights_strategy.weights, labels= currency_weights_strategy.index, autopct='%1.1f%%')\n",
    "plt.savefig(\"currency_pie_strategy.png\", device = \"png\")\n",
    "\n",
    "#plot weights diagram index vs stragegy\n",
    "currency_weights = currency_weights_index.join(currency_weights_strategy)\n",
    "\n",
    "width = 0.4\n",
    "fig, ax = plt.subplots()\n",
    "ind = np.arange(len(currency_weights_index))\n"
   ]
  },
  {
   "cell_type": "code",
   "execution_count": null,
   "metadata": {},
   "outputs": [],
   "source": [
    "\n",
    "ax.barh(ind, currency_weights.index_weights, width, label = \"Strategy Weights\")\n",
    "ax.barh(ind + width, currency_weights.weights, width, label = \"Index Weights\")\n",
    "ax.set(yticks = ind + width, yticklabels = currency_weights.index)\n",
    "ax.legend()\n",
    "plt.title(\"Currency Weights Strategy vs Index\", size = 20)\n",
    "plt.show()\n",
    "plt.savefig(\"curency_comparison.png\", device = \"png\")\n",
    "\n",
    "#plot industries\n",
    "sector_weights_strategy = stocks[[\"Sector\", \"weights\"]].groupby(by = \"Sector\").sum()\n",
    "sector_weights_index = constituents[[\"Sector\", \"index_weights\"]].groupby(by = \"Sector\").sum()\n",
    "\n",
    "sector_weights = sector_weights_index.join(sector_weights_strategy)\n",
    "\n"
   ]
  },
  {
   "cell_type": "code",
   "execution_count": null,
   "metadata": {},
   "outputs": [],
   "source": [
    "\n",
    "width = 0.4\n",
    "fig, ax = plt.subplots()\n",
    "ind = np.arange(len(sector_weights))\n",
    "\n",
    "ax.barh(ind, sector_weights.index_weights, width, label = \"Strategy Weights\")\n",
    "ax.barh(ind + width, sector_weights.weights, width, label = \"Index Weights\")\n",
    "ax.set(yticks = ind + width, yticklabels = sector_weights.index)\n",
    "ax.legend()\n",
    "plt.title(\"Sector Weights Strategy vs Index\", size = 20)\n",
    "plt.show()\n",
    "plt.savefig(\"sector_weights.png\", device = \"png\")\n"
   ]
  },
  {
   "cell_type": "code",
   "execution_count": null,
   "metadata": {},
   "outputs": [],
   "source": [
    "\n",
    "#calculate performance ratios (in and out of sample!!!)\n",
    "#-------------------------------------------------------------------------------------------\n",
    "rf_rate = -0.5\n",
    "SR_in_sample = sharpe(w = MSRP.x, ER = , S = )\n",
    "SR_benchmark_in_sample = sharpe(w = , ER =  ,S = )\n",
    "\n",
    "SR_out_sample = sharpe(w = , ER =  ,S = )\n",
    "SR_benchmark_out_sample = sharpe(w = , ER =  ,S = )\n",
    "\n",
    "#calculate ratios\n",
    "stocks_short = stocks[stocks.weights <0]\n",
    "stocks_long = stocks[stocks.weights > 0]\n",
    "\n",
    "#dividend yield\n",
    "div_yield_long = (stocks_long.weights / stocks_long.weights.sum() * stocks_long.Yield).sum()\n",
    "div_yield_short = (stocks_short.weights.abs()/ stocks_short.weights.abs().sum() * stocks_short.Yield).sum()\n",
    "div_yield_index = (constituents.index_weights * constituents.Yield).sum()\n"
   ]
  },
  {
   "cell_type": "code",
   "execution_count": null,
   "metadata": {},
   "outputs": [],
   "source": [
    "\n",
    "index = constituents.join(stocks[[\"weights\"]])\n",
    "\n",
    "#trailing PE Ratio, #forward PE\n",
    "index = index[index.Trailing_PE.notna()]\n",
    "index = index[index.Forward_PE.notna()]\n",
    "index.Trailing_PE = np.where(index.Trailing_PE > 60, 60, index.Trailing_PE)\n",
    "index.Forward_PE = np.where(index.Forward_PE > 60, 60, index.Forward_PE)\n",
    "index.PB_Ratio =  np.where(index.PB_Ratio > 25, 25, index.PB_Ratio)\n",
    "\n",
    "short = index.loc[stocks_short.index]\n",
    "long = index.loc[stocks_long.index]\n"
   ]
  },
  {
   "cell_type": "code",
   "execution_count": null,
   "metadata": {},
   "outputs": [],
   "source": [
    "\n",
    "PE_long = (long.weights / long.weights.sum() * long.Trailing_PE).sum()\n",
    "PE_short = (short.weights / short.weights.sum() * short.Trailing_PE).sum()\n",
    "PE_index = (index.index_weights * index.Trailing_PE).sum()\n",
    "\n",
    "PE_fwd_long = (long.weights / long.weights.sum() * long.Forward_PE).sum()\n",
    "PE_fwd_short = (short.weights / short.weights.sum() * short.Forward_PE).sum()\n",
    "PE_fwd_index = (index.index_weights * index.Forward_PE).sum()\n",
    "#PB Ratio\n",
    "PB_long = (long.weights / long.weights.sum() * long.PB_Ratio).sum()\n",
    "PB_short = (short.weights / short.weights.sum() * short.PB_Ratio).sum()\n",
    "PB_index = (index.index_weights * index.PB_Ratio).sum()\n"
   ]
  },
  {
   "cell_type": "code",
   "execution_count": null,
   "metadata": {},
   "outputs": [],
   "source": [
    "\n",
    "#assemble metrics dataframe\n",
    "ratios_short = {\"Yield\": div_yield_short, \"Price_Book\": PB_short, \"Trailing_PE\": PE_short,\n",
    "                \"Forward_PE\": PE_fwd_short}\n",
    "ratios_long = {\"Yield\": div_yield_long, \"Price_Book\": PB_long, \"Trailing_PE\": PE_long,\n",
    "                \"Forward_PE\": PE_fwd_long}\n",
    "\n",
    "ratios_index = {\"Yield\": div_yield_index, \"Price_Book\": PB_index, \"Trailing_PE\": PE_index,\n",
    "                \"Forward_PE\": PE_fwd_index}\n",
    "\n",
    "ratios_table = pd.DataFrame({\"Portfolio Short\":ratios_short, \"Portfolio Long\": ratios_long, \"Index\": ratios_index})\n",
    "\n",
    "#explain out out sample outperformance!\n",
    "e_rates = yf.download(tickers = [\"CHFEUR=X\", \"GBPEUR=X\"], start = end_backtesting, end = dt.date.today(), interval = \"1d\")\n",
    "e_rates = e_rates[\"Adj Close\"]\n",
    "e_rates = e_rates.rename(columns= {\"CHFEUR=X\": \"CHF\", \"GBPEUR=X\": \"GBP\"})\n",
    "e_rates_rel = e_rates.div(e_rates.iloc[0])\n",
    "e_rates_rel.plot()\n",
    "\n",
    "gross_returns.index = pd.to_datetime(gross_returns.index)\n",
    "gross_returns_rel = gross_returns[gross_returns.index > end_backtesting]\n",
    "gross_returns_rel = gross_returns_rel.loc[:,stocks.index]\n",
    "gross_returns_rel = gross_returns_rel.div(gross_returns_rel.iloc[0])\n",
    "\n",
    "gross_returns_rel.plot()"
   ]
  }
 ],
 "metadata": {
  "interpreter": {
   "hash": "db772567c4567f4b3d1f56ed53e5d7229d15382f6d3dfec57e0c55f7b5cf2dd9"
  },
  "kernelspec": {
   "display_name": "Python 3.9.7 ('base')",
   "language": "python",
   "name": "python3"
  },
  "language_info": {
   "codemirror_mode": {
    "name": "ipython",
    "version": 3
   },
   "file_extension": ".py",
   "mimetype": "text/x-python",
   "name": "python",
   "nbconvert_exporter": "python",
   "pygments_lexer": "ipython3",
   "version": "3.9.7"
  },
  "orig_nbformat": 4
 },
 "nbformat": 4,
 "nbformat_minor": 2
}
